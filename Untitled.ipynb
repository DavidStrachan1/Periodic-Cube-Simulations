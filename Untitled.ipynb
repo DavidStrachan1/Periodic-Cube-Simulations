{
 "cells": [
  {
   "cell_type": "code",
   "execution_count": null,
   "id": "f4542af1",
   "metadata": {},
   "outputs": [],
   "source": [
    "from IPython.core.display import display, HTML\n",
    "display(HTML(\"<style>.container { width:100% !important; }</style>\"))\n"
   ]
  },
  {
   "cell_type": "code",
   "execution_count": 17,
   "id": "ab03bb11",
   "metadata": {},
   "outputs": [],
   "source": [
    "from tqdm import tqdm_notebook\n",
    "\n",
    "import numpy as np\n",
    "import matplotlib\n",
    "from matplotlib import rc\n",
    "import scipy.constants as sc\n",
    "from scipy.fft import fft,ifft,fftfreq, dct, idct\n",
    "import matplotlib.pyplot as plt\n",
    "from numpy import linalg as LA\n",
    "import warnings\n",
    "warnings.simplefilter('ignore')\n",
    "from tqdm import tqdm_notebook\n",
    "import mpl_toolkits.mplot3d as mplot3d\n",
    "import scipy.special as ss\n",
    "from scipy.integrate import quad, dblquad\n",
    "\n",
    "import pandas as pd\n",
    "import seaborn as sns\n",
    "import os\n",
    "import datetime\n",
    "import matplotlib.ticker as ticker\n",
    "\n",
    "import pandas as pd"
   ]
  },
  {
   "cell_type": "code",
   "execution_count": null,
   "id": "38c64f21",
   "metadata": {
    "scrolled": true
   },
   "outputs": [
    {
     "data": {
      "application/vnd.jupyter.widget-view+json": {
       "model_id": "9fccf28e842345b79a456e35eed7979f",
       "version_major": 2,
       "version_minor": 0
      },
      "text/plain": [
       "  0%|          | 0/10 [00:00<?, ?it/s]"
      ]
     },
     "metadata": {},
     "output_type": "display_data"
    },
    {
     "data": {
      "application/vnd.jupyter.widget-view+json": {
       "model_id": "",
       "version_major": 2,
       "version_minor": 0
      },
      "text/plain": [
       "  0%|          | 0/5000 [00:00<?, ?it/s]"
      ]
     },
     "metadata": {},
     "output_type": "display_data"
    },
    {
     "data": {
      "application/vnd.jupyter.widget-view+json": {
       "model_id": "",
       "version_major": 2,
       "version_minor": 0
      },
      "text/plain": [
       "  0%|          | 0/5000 [00:00<?, ?it/s]"
      ]
     },
     "metadata": {},
     "output_type": "display_data"
    },
    {
     "data": {
      "application/vnd.jupyter.widget-view+json": {
       "model_id": "fefe72ebf56347aab7774e4c5f696550",
       "version_major": 2,
       "version_minor": 0
      },
      "text/plain": [
       "  0%|          | 0/5000 [00:00<?, ?it/s]"
      ]
     },
     "metadata": {},
     "output_type": "display_data"
    }
   ],
   "source": [
    "# Simple N-body code for the periodic cube.  You can download this script from\n",
    "# https://www-thphys.physics.ox.ac.uk/people/JohnMagorrian/cm21/cubeNbody.py\n",
    "# To run it you will need python3 and numpy: see https://numpy.org/install/\n",
    "\n",
    "pi = np.pi\n",
    "\n",
    "class PotentialCalculator:\n",
    "    def __init__(self, nmax, nx=64):\n",
    "        \"\"\"\"\"\"\"\"\"\n",
    "        This function takes the cube of length nmax centred at the origin and returns an array \n",
    "        with the value of 4pi/n^2. This happens within a larger cube of size nx, but all modes for nsqr>nmax**2\n",
    "        don't contribute. \n",
    "        \n",
    "        \"\"\"\"\"\"\"\"\"\n",
    "        self.nx = nx\n",
    "        self.dx = 2*pi/nx\n",
    "        self.fftkernel = np.zeros((nx,nx,nx))\n",
    "        for n1 in range(0,nx):\n",
    "            n1sgn = n1 if n1<nx/2 else n1-nx\n",
    "            for n2 in range(0,nx):\n",
    "                n2sgn = n2 if n2<nx/2 else n2-nx\n",
    "                for n3 in range(0,nx):\n",
    "                    n3sgn = n3 if n3<nx/2 else n3-nx\n",
    "                    nsq = n1sgn**2 + n2sgn**2 + n3sgn**2\n",
    "                    if nsq>0 and nsq<nmax**2+0.1:\n",
    "                        self.fftkernel[n3,n2,n1] = -4*pi/nsq\n",
    "        self.mesh = np.zeros((nx,nx,nx),dtype=float)\n",
    "        \n",
    "    def ptles2density(self, xs, ms):\n",
    "        \"\"\"\"\"\"\"\"\"\n",
    "        xs: N by 3 array which gives the positions of the N particles.\n",
    "        ms: N by 1 array with the mass of each star for every element.\n",
    "        ndxs: Converts the initially random values to the coordinates on the grid in units \n",
    "        of the grid separation. This is of the same shape as xs.\n",
    "        \n",
    "        \n",
    "        \"\"\"\"\"\"\"\"\"\n",
    "        ndxs = (xs/self.dx).astype(int)\n",
    "        for (ndx,mfac) in zip(ndxs,ms/(2*pi)**3):\n",
    "            self.mesh[ndx[0],ndx[1],ndx[2]] += mfac\n",
    "\n",
    "    def density2pot(self):\n",
    "        \"\"\"This implements equations 9 and 11. I'm unsure about the nx^3 factor.\n",
    "        \n",
    "        The output is a (nx,nx,nx) array, each element giving the value of the potential \n",
    "        at that point in space. This potential is evaluated at a given time t within the loop.\"\"\"\n",
    "        \n",
    "        fftmesh = np.fft.fftn(self.mesh)\n",
    "        fftmesh *= self.fftkernel\n",
    "        self.mesh = np.fft.ifftn(fftmesh).real*self.nx**3\n",
    "\n",
    "    def pot2accels(self, xs):\n",
    "        \"\"\"\"\"\"\"\"\"\"\n",
    "        Mesh is the potential.\n",
    "        This function implements a=-dphi/dx using a finite difference scheme. The +nx term\n",
    "        prevents negative indices.\n",
    "        The function returns an accelaration array that has the same shape as xs.\n",
    "        \"\"\"\"\"\"\"\"\"\n",
    "        mesh, nx, dx = self.mesh, self.nx, self.dx\n",
    "        mesh = self.mesh\n",
    "        ndx = (xs/dx).astype(int).T\n",
    "        return -np.array([\n",
    "            mesh[ (ndx[0]+1)%nx, ndx[1], ndx[2] ] - mesh[ (nx+ndx[0]-1)%nx, ndx[1], ndx[2] ],\n",
    "            mesh[ ndx[0], (ndx[1]+1)%nx, ndx[2] ] - mesh[ ndx[0], (nx+ndx[1]-1)%nx, ndx[2] ],\n",
    "            mesh[ ndx[0], ndx[1], (ndx[2]+1)%nx ] - mesh[ ndx[0], ndx[1], (nx+ndx[2]-1)%nx] ]).T/(2*dx)\n",
    "\n",
    "    def accels(self, xs, ms):\n",
    "        \"\"\"Given a distribution of particles at locations 'xs' having masses 'ms',\n",
    "        calculate the corresponding potential and return the acceleration experienced by each particle.\"\"\"\n",
    "        self.mesh *= 0\n",
    "        self.ptles2density(xs,ms)\n",
    "        self.density2pot()\n",
    "        return self.pot2accels(xs)\n",
    "        \n",
    "\n",
    "if __name__ == \"__main__\":\n",
    "    sqr_data_list = []\n",
    "    MJeans = 2*pi**2\n",
    "    nmax = 4\n",
    "    #N = 100000\n",
    "    nstep, dt = 5000, 0.02\n",
    "    #M = 0.01*MJeans\n",
    "    N_arr = np.linspace(1000,100000,num=10)\n",
    "    M_arr = MJeans*np.linspace(0.01,0.05,num=10)\n",
    "    scaled_grad_arr = np.zeros(M_arr)\n",
    "    t_arr = np.zeros((nstep,np.size(M_arr)))\n",
    "    mean_sqr_arr = np.zeros((nstep,np.size(M_arr)))\n",
    "    grad_av_arr = np.zeros((np.size(M_arr),np.size(N_arr)))\n",
    "    \n",
    "    \n",
    "    #for k in tqdm_notebook(range(np.size(N_arr)),leave=False): \n",
    "    #N = int(N_arr[k])\n",
    "    \n",
    "    \n",
    "    # Initial conditions.  Positions xs, velocities vs, masses ms.\n",
    "    N = 10000\n",
    "    dv = np.array([1.0,1.0,1.0])\n",
    "    xs = np.random.uniform(0,2*pi,size=3*N).reshape(N,3)\n",
    "    vs = dv*np.random.normal(loc=0,scale=1,size=3*N).reshape(N,3)\n",
    "    vs0 = vs*1.0 # make a copy of initial velocities\n",
    "\n",
    "    for i in tqdm_notebook(range(np.size(M_arr)),leave=False):\n",
    "        M = M_arr[i]\n",
    "        ms = np.ones(N)*M/N\n",
    "        mesh = PotentialCalculator(nmax)\n",
    "        for istep in tqdm_notebook(range(nstep),leave=False):    \n",
    "            t = istep*dt\n",
    "            xs += 0.5*dt*vs\n",
    "            xs = np.fmod(4*pi+xs,2*pi) # map to [0,2*pi)\n",
    "            vs += dt*mesh.accels(xs,ms)\n",
    "            xs += 0.5*dt*vs\n",
    "            mean_sqr_v = np.std(vs-vs0)**2\n",
    "            t_arr[istep,i] = t\n",
    "            mean_sqr_arr[istep,i] = mean_sqr_v\n",
    "            #print(t,mean_sqr_v)\n",
    "    \n",
    "    \n",
    "        mean_grad = np.mean(np.gradient(mean_sqr_v,t_arr))\n",
    "        scaled_grad = mean_grad*N/(M**2)\n",
    "        scaled_grad_arr[i] = scaled_grad\n",
    "    \n",
    "    \n",
    "    \"\"\"\"\"\"\"\"\"\n",
    "    GRAPHING CODE\n",
    "    \"\"\"\"\"\"\"\"\"\n",
    "    save_boolean = bool(int(input('Save Data?')))\n",
    "    if save_boolean:\n",
    "        name = str(input('File Name?'))\n",
    "        path = 'C://Users/rober/OneDrive/Documents/GPD project/'+name\n",
    "                \n",
    "        data = pd.DataFrame(data=mean_sqr_arr,index=t_arr[:,0],columns =M_arr)\n",
    "        data.to_excel(path+'.xlsx',sheet_name = name)\n",
    "\n",
    "    \n",
    "    \n",
    "    for j in range(np.size(M_arr)):\n",
    "        plt.plot(t_arr[:,j],mean_sqr_arr[:,j],label='M/MJ='+str(M_arr[j]/MJeans))\n",
    "        grad_av_arr[j,k] = np.mean(mean_sqr_arr[:,j]/t_arr[:,j])\n",
    "        \n",
    "    save_graph = bool(int(input('Save Graph?')))\n",
    "    if save_graph:\n",
    "        plt.savefig(path+'.png')\n",
    "    plt.legend()\n",
    "    plt.grid()\n",
    "    plt.xlabel('time')\n",
    "    plt.ylabel('mean-square change in stars velocities')\n",
    "    if save_graph:\n",
    "        plt.savefig(path+'.png')\n",
    "    plt.show()\n",
    "    \n",
    "    plt.plot(scaled_grad_arr,M_arr)\n",
    "    plt.grid()\n",
    "    plt.xlabel('Mass/MJ')\n",
    "    plt.ylabel('scaled gradient')\n",
    "    plt.show()\n",
    "            \n",
    "    \n",
    "        \n",
    "        \n",
    "        \n",
    "        \n"
   ]
  },
  {
   "cell_type": "code",
   "execution_count": 27,
   "id": "b4340c17",
   "metadata": {},
   "outputs": [
    {
     "data": {
      "text/plain": [
       "array([[0.  , 0.  , 0.  , 0.  , 0.  ],\n",
       "       [0.02, 0.02, 0.02, 0.02, 0.02],\n",
       "       [0.04, 0.04, 0.04, 0.04, 0.04],\n",
       "       [0.06, 0.06, 0.06, 0.06, 0.06],\n",
       "       [0.08, 0.08, 0.08, 0.08, 0.08],\n",
       "       [0.1 , 0.1 , 0.1 , 0.1 , 0.1 ],\n",
       "       [0.12, 0.12, 0.12, 0.12, 0.12],\n",
       "       [0.14, 0.14, 0.14, 0.14, 0.14],\n",
       "       [0.16, 0.16, 0.16, 0.16, 0.16],\n",
       "       [0.18, 0.18, 0.18, 0.18, 0.18],\n",
       "       [0.2 , 0.2 , 0.2 , 0.2 , 0.2 ],\n",
       "       [0.22, 0.22, 0.22, 0.22, 0.22],\n",
       "       [0.24, 0.24, 0.24, 0.24, 0.24],\n",
       "       [0.26, 0.26, 0.26, 0.26, 0.26],\n",
       "       [0.28, 0.28, 0.28, 0.28, 0.28],\n",
       "       [0.3 , 0.3 , 0.3 , 0.3 , 0.3 ],\n",
       "       [0.32, 0.32, 0.32, 0.32, 0.32],\n",
       "       [0.34, 0.34, 0.34, 0.34, 0.34],\n",
       "       [0.36, 0.36, 0.36, 0.36, 0.36],\n",
       "       [0.38, 0.38, 0.38, 0.38, 0.38],\n",
       "       [0.4 , 0.4 , 0.4 , 0.4 , 0.4 ],\n",
       "       [0.42, 0.42, 0.42, 0.42, 0.42],\n",
       "       [0.44, 0.44, 0.44, 0.44, 0.44],\n",
       "       [0.46, 0.46, 0.46, 0.46, 0.46],\n",
       "       [0.48, 0.48, 0.48, 0.48, 0.48],\n",
       "       [0.5 , 0.5 , 0.5 , 0.5 , 0.5 ],\n",
       "       [0.52, 0.52, 0.52, 0.52, 0.52],\n",
       "       [0.54, 0.54, 0.54, 0.54, 0.54],\n",
       "       [0.56, 0.56, 0.56, 0.56, 0.56],\n",
       "       [0.58, 0.58, 0.58, 0.58, 0.58],\n",
       "       [0.6 , 0.6 , 0.6 , 0.6 , 0.6 ],\n",
       "       [0.62, 0.62, 0.62, 0.62, 0.62],\n",
       "       [0.64, 0.64, 0.64, 0.64, 0.64],\n",
       "       [0.66, 0.66, 0.66, 0.66, 0.66],\n",
       "       [0.68, 0.68, 0.68, 0.68, 0.68],\n",
       "       [0.7 , 0.7 , 0.7 , 0.7 , 0.7 ],\n",
       "       [0.72, 0.72, 0.72, 0.72, 0.72],\n",
       "       [0.74, 0.74, 0.74, 0.74, 0.74],\n",
       "       [0.76, 0.76, 0.76, 0.76, 0.76],\n",
       "       [0.78, 0.78, 0.78, 0.78, 0.78],\n",
       "       [0.8 , 0.8 , 0.8 , 0.8 , 0.8 ],\n",
       "       [0.82, 0.82, 0.82, 0.82, 0.82],\n",
       "       [0.84, 0.84, 0.84, 0.84, 0.84],\n",
       "       [0.86, 0.86, 0.86, 0.86, 0.86],\n",
       "       [0.88, 0.88, 0.88, 0.88, 0.88],\n",
       "       [0.9 , 0.9 , 0.9 , 0.9 , 0.9 ],\n",
       "       [0.92, 0.92, 0.92, 0.92, 0.92],\n",
       "       [0.94, 0.94, 0.94, 0.94, 0.94],\n",
       "       [0.96, 0.96, 0.96, 0.96, 0.96],\n",
       "       [0.98, 0.98, 0.98, 0.98, 0.98]])"
      ]
     },
     "execution_count": 27,
     "metadata": {},
     "output_type": "execute_result"
    }
   ],
   "source": [
    "mean_sqr_arr[0,:]\n",
    "t_arr"
   ]
  },
  {
   "cell_type": "markdown",
   "id": "fef9480b",
   "metadata": {},
   "source": [
    "# Graphing code"
   ]
  },
  {
   "cell_type": "code",
   "execution_count": 19,
   "id": "95af6b4c",
   "metadata": {},
   "outputs": [
    {
     "data": {
      "image/png": "[encoded data removed]",
      "text/plain": [
       "<Figure size 432x288 with 1 Axes>"
      ]
     },
     "metadata": {
      "needs_background": "light"
     },
     "output_type": "display_data"
    }
   ],
   "source": [
    "\n",
    "plt.plot(t_arr,mean_aqr_arr,label='M='+str(M))\n",
    "\n",
    "plt.legend()\n",
    "plt.grid()\n",
    "plt.xlabel('time')\n",
    "plt.ylabel('mean-square change in stars velocities')\n",
    "#plt.title()\n",
    "\n",
    "\n",
    "plt.show()"
   ]
  }
 ],
 "metadata": {
  "kernelspec": {
   "display_name": "Python 3 (ipykernel)",
   "language": "python",
   "name": "python3"
  },
  "language_info": {
   "codemirror_mode": {
    "name": "ipython",
    "version": 3
   },
   "file_extension": ".py",
   "mimetype": "text/x-python",
   "name": "python",
   "nbconvert_exporter": "python",
   "pygments_lexer": "ipython3",
   "version": "3.9.7"
  }
 },
 "nbformat": 4,
 "nbformat_minor": 5
}
